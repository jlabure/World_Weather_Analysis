{
 "cells": [
  {
   "cell_type": "code",
   "execution_count": 1,
   "id": "8a9851c1",
   "metadata": {},
   "outputs": [],
   "source": [
    "# Import the random module.\n",
    "import random"
   ]
  },
  {
   "cell_type": "code",
   "execution_count": 2,
   "id": "5a74f5c4",
   "metadata": {},
   "outputs": [
    {
     "data": {
      "text/plain": [
       "0.4851804159930725"
      ]
     },
     "execution_count": 2,
     "metadata": {},
     "output_type": "execute_result"
    }
   ],
   "source": [
    "random.random()"
   ]
  },
  {
   "cell_type": "code",
   "execution_count": 3,
   "id": "35cb3891",
   "metadata": {},
   "outputs": [
    {
     "data": {
      "text/plain": [
       "69"
      ]
     },
     "execution_count": 3,
     "metadata": {},
     "output_type": "execute_result"
    }
   ],
   "source": [
    "random.randint(-90,90)"
   ]
  },
  {
   "cell_type": "code",
   "execution_count": 4,
   "id": "b7f050cd",
   "metadata": {},
   "outputs": [],
   "source": [
    "random_number = random.randint(-90,89) + random.random()"
   ]
  },
  {
   "cell_type": "code",
   "execution_count": 5,
   "id": "9e05ba38",
   "metadata": {},
   "outputs": [],
   "source": [
    "x = 1\n",
    "latitudes = []\n",
    "while x < 11:\n",
    "    random_lat = random.randint(-90, 89) + random.random()\n",
    "    latitudes.append(random_lat)\n",
    "    x += 1"
   ]
  },
  {
   "cell_type": "code",
   "execution_count": 6,
   "id": "b20b5e12",
   "metadata": {},
   "outputs": [
    {
     "data": {
      "text/plain": [
       "-66"
      ]
     },
     "execution_count": 6,
     "metadata": {},
     "output_type": "execute_result"
    }
   ],
   "source": [
    "random.randrange(-90, 90, step=3)"
   ]
  },
  {
   "cell_type": "code",
   "execution_count": 7,
   "id": "c8178447",
   "metadata": {},
   "outputs": [
    {
     "data": {
      "text/plain": [
       "-4.613616958205114"
      ]
     },
     "execution_count": 7,
     "metadata": {},
     "output_type": "execute_result"
    }
   ],
   "source": [
    "random.uniform(-90, 90)"
   ]
  },
  {
   "cell_type": "code",
   "execution_count": 8,
   "id": "1093f280",
   "metadata": {},
   "outputs": [],
   "source": [
    "# Import the NumPy module.\n",
    "import numpy as np"
   ]
  },
  {
   "cell_type": "code",
   "execution_count": 9,
   "id": "04338b54",
   "metadata": {},
   "outputs": [
    {
     "data": {
      "text/plain": [
       "24.874539344972902"
      ]
     },
     "execution_count": 9,
     "metadata": {},
     "output_type": "execute_result"
    }
   ],
   "source": [
    "np.random.uniform(-90.000, 90.000)"
   ]
  },
  {
   "cell_type": "code",
   "execution_count": 10,
   "id": "73f4ad1e",
   "metadata": {},
   "outputs": [
    {
     "data": {
      "text/plain": [
       "array([-79.11283656,  77.74281991, -58.21403882, -36.08623053,\n",
       "       -70.52019412, -20.9649115 ,  59.08205492,  38.36658797,\n",
       "        -3.60000621, -40.581411  ,  88.93215916,  80.90552146,\n",
       "       -13.82334468, -26.62725952,  24.88027732,  48.01157197,\n",
       "       -80.70098737, -24.30195999,  13.66789661,  34.62202269,\n",
       "        29.68420901,  -1.23886705, -62.781759  ,  88.46425164,\n",
       "        39.03567954,  54.29992206,  27.27596391, -50.47876928,\n",
       "       -30.03175108, -14.20392824, -42.04509832, -14.44796514,\n",
       "        74.7465097 , -30.92591512,  23.36605062,   0.49936326,\n",
       "       -58.39345663,  70.09756516,  23.46340312, -22.08719766,\n",
       "         4.34434365, -14.37559852, -11.58004022,  17.69845116,\n",
       "       -73.31886944,  34.86652652, -35.72525861,  74.97644683,\n",
       "        55.05922598, -58.26644235])"
      ]
     },
     "execution_count": 10,
     "metadata": {},
     "output_type": "execute_result"
    }
   ],
   "source": [
    "np.random.uniform(-90.000, 90.000, size=50)"
   ]
  },
  {
   "cell_type": "code",
   "execution_count": 11,
   "id": "8a2c478f",
   "metadata": {},
   "outputs": [],
   "source": [
    "# Import timeit.\n",
    "import timeit"
   ]
  },
  {
   "cell_type": "code",
   "execution_count": 12,
   "id": "ebf5b7fa",
   "metadata": {},
   "outputs": [
    {
     "name": "stdout",
     "output_type": "stream",
     "text": [
      "9.13 µs ± 64.2 ns per loop (mean ± std. dev. of 7 runs, 100000 loops each)\n"
     ]
    }
   ],
   "source": [
    "%timeit np.random.uniform(-90.000, 90.000, size=1500)"
   ]
  },
  {
   "cell_type": "code",
   "execution_count": 13,
   "id": "5b08b1ac",
   "metadata": {},
   "outputs": [
    {
     "name": "stdout",
     "output_type": "stream",
     "text": [
      "1.15 ms ± 3.01 µs per loop (mean ± std. dev. of 7 runs, 1000 loops each)\n"
     ]
    }
   ],
   "source": [
    "def latitudes(size):\n",
    "    latitudes = []\n",
    "    x = 0\n",
    "    while x < (size):\n",
    "        random_lat = random.randint(-90, 90) + random.random()\n",
    "        latitudes.append(random_lat)\n",
    "        x += 1\n",
    "    return latitudes\n",
    "# Call the function with 1500.\n",
    "%timeit latitudes(1500)"
   ]
  },
  {
   "cell_type": "code",
   "execution_count": 14,
   "id": "3b4ef1a7",
   "metadata": {},
   "outputs": [
    {
     "data": {
      "text/plain": [
       "array([36.80264539, 56.63802962, 40.5064881 , ..., 75.03050797,\n",
       "        3.99077818, 14.89897536])"
      ]
     },
     "execution_count": 14,
     "metadata": {},
     "output_type": "execute_result"
    }
   ],
   "source": [
    "np.random.uniform(-90.000, 90.000, size=1500)"
   ]
  },
  {
   "cell_type": "code",
   "execution_count": null,
   "id": "5ffdf91a",
   "metadata": {},
   "outputs": [],
   "source": []
  }
 ],
 "metadata": {
  "kernelspec": {
   "display_name": "PythonData",
   "language": "python",
   "name": "pythondata"
  },
  "language_info": {
   "codemirror_mode": {
    "name": "ipython",
    "version": 3
   },
   "file_extension": ".py",
   "mimetype": "text/x-python",
   "name": "python",
   "nbconvert_exporter": "python",
   "pygments_lexer": "ipython3",
   "version": "3.7.13"
  }
 },
 "nbformat": 4,
 "nbformat_minor": 5
}
